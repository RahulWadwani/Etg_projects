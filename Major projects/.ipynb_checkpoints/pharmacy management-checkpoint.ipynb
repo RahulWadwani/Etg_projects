{
 "cells": [
  {
   "cell_type": "code",
   "execution_count": 1,
   "metadata": {},
   "outputs": [],
   "source": [
    "#creating a json file to take the loads and dumps of all the entered data \n",
    "from json import loads, dumps \n",
    "meds ={ 123456:{'name':'Disprin 325 MG','description':'used for headaches, pain and fever','tablets':12,'amount': 9.52 },\n",
    "        123457:{'name':'Disperzyme ','description':'used for nausea, vomiting,flatulence','tablets':10,'amount': 585.65 }\n",
    "    } \n",
    "fd = open('medics.json','a')\n",
    "fd.write(dumps(meds))\n",
    "fd.close()\n",
    "\n"
   ]
  }
 ],
 "metadata": {
  "kernelspec": {
   "display_name": "Python 3 (ipykernel)",
   "language": "python",
   "name": "python3"
  },
  "language_info": {
   "codemirror_mode": {
    "name": "ipython",
    "version": 3
   },
   "file_extension": ".py",
   "mimetype": "text/x-python",
   "name": "python",
   "nbconvert_exporter": "python",
   "pygments_lexer": "ipython3",
   "version": "3.9.6"
  },
  "vscode": {
   "interpreter": {
    "hash": "1c4eeb78d5e1dc6cb6e62b5bd20620b702dce5b8b8ded6688ef7aad2e1c0d17c"
   }
  }
 },
 "nbformat": 4,
 "nbformat_minor": 2
}
