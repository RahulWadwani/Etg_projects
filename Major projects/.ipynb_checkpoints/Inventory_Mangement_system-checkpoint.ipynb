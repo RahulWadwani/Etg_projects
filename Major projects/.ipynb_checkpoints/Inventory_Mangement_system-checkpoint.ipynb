{
 "cells": [
  {
   "cell_type": "markdown",
   "id": "4980be99",
   "metadata": {},
   "source": [
    "## write a program to product id as key and dict as values with product details for inventory management systems \n",
    "## Using multi dimensional dictionary "
   ]
  },
  {
   "cell_type": "code",
   "execution_count": 9,
   "id": "3959c989",
   "metadata": {},
   "outputs": [],
   "source": [
    "\n",
    "def intro(Name):\n",
    "      print(\"-\"*50)\n",
    "      print(\"Welcome to Fashion World Mr.\" + Name.capitalize())\n",
    "      print(\"-\"*50)\n",
    "\n",
    "Name = str(input(\"Enter your name :\"))\n",
    "\n",
    "# creating a list of dictionary of products \n",
    "\n",
    "dict={1312:{'product_name':'Boult Earbuds','product_category':'Electronics ','price':499},\n",
    "      1322:{'product_name':'Acer Laptop','product_category':'Electronics devices ','price':14999},\n",
    "      1332:{'product_name':'Nike Shoes','product_category':'Shoes ','price':1499},\n",
    "      1342:{'product_name':'Gucci T-shirt','product_category':'Clothing ','price':899},\n",
    "      1352:{'product_name':'Apple Watch','product_category':'Wearables','price':25499}}"
   ]
  },
  {
   "cell_type": "markdown",
   "id": "1abc7167",
   "metadata": {},
   "source": [
    "# Searching based on Product_name"
   ]
  },
  {
   "cell_type": "code",
   "execution_count": 25,
   "id": "0821f2a5",
   "metadata": {},
   "outputs": [
    {
     "name": "stdout",
     "output_type": "stream",
     "text": [
      "list of items are here:\n",
      "Boult Earbuds\n",
      "Acer Laptop\n",
      "Nike Shoes\n",
      "Gucci T-shirt\n",
      "Apple Watch\n",
      "--------------------------------------------------\n",
      "The cost of gucci T-shirt is $ 899\n",
      "Congratulations !!!! You have successfully Gucci T-shirt to your cart\n",
      "--------------------------------------------------\n"
     ]
    }
   ],
   "source": [
    "print(\"list of items are here:\")\n",
    "for keys in dict:\n",
    "    print(dict[keys]['product_name'])\n",
    "print(\"-\"*50)\n",
    "Customer_input=str(input(\"What do you Wish Today: \"))\n",
    "for keys in dict :\n",
    "    if (dict[keys]['product_name'].lower() == Customer_input.lower()):\n",
    "        print(\"The cost of\",Customer_input,\"is $\",dict[keys]['price'])\n",
    "        print(\"Congratulations !!!! You have successfully\",dict[keys]['product_name'],\"to your cart\")\n",
    "print(\"-\"*50)"
   ]
  },
  {
   "cell_type": "markdown",
   "id": "697f06bb",
   "metadata": {},
   "source": [
    "# Searching based on product category"
   ]
  },
  {
   "cell_type": "code",
   "execution_count": 33,
   "id": "48389041",
   "metadata": {},
   "outputs": [
    {
     "name": "stdout",
     "output_type": "stream",
     "text": [
      " Product categories are listed here :\n",
      "Electronics \n",
      "Electronics devices \n",
      "Shoes \n",
      "Clothing \n",
      "Wearables\n",
      "--------------------------------------------------\n",
      "False\n",
      "False\n",
      "False\n",
      "False\n",
      "False\n"
     ]
    }
   ],
   "source": [
    "print(\" Product categories are listed here :\")\n",
    "for keys in dict:\n",
    "    print(dict[keys]['product_category'])\n",
    "print('-'*50)\n",
    "input_ = str(input(\"Enter the product category you are searching for :\"))\n",
    "for keys in dict:\n",
    "    print(dict[keys]['product_category'] == input_)\n",
    "    if (dict[keys]['product_category'].lower() == input_.lower()):\n",
    "        print(dict[keys]['product_name'])"
   ]
  },
  {
   "cell_type": "markdown",
   "id": "9163d7bb",
   "metadata": {},
   "source": [
    "# Adding new products "
   ]
  },
  {
   "cell_type": "code",
   "execution_count": 6,
   "id": "1a30cb2d",
   "metadata": {},
   "outputs": [],
   "source": [
    "def add_prod():\n",
    "    prod_key = int(input(\"Enter the product key: \"))\n",
    "    prod_name = str(input(\"Enter product name: \"))\n",
    "    prod_category = str(input(\"Enter product category :\"))\n",
    "    price = int(input(\"Enter the price: \"))\n",
    "    prod = {}\n",
    "    prod['product_name'] = prod_name.capitalize()\n",
    "    prod['product_category'] = prod_category\n",
    "    prod['price'] = price\n",
    "    dict[prod_key] = prod          "
   ]
  },
  {
   "cell_type": "code",
   "execution_count": 34,
   "id": "5c8713bb",
   "metadata": {},
   "outputs": [
    {
     "name": "stdout",
     "output_type": "stream",
     "text": [
      "--------------------------------------------------\n",
      "Welcome to Fashion World Mr.Rahul \n",
      "--------------------------------------------------\n"
     ]
    }
   ],
   "source": [
    "intro(Name)\n",
    "\n"
   ]
  }
 ],
 "metadata": {
  "kernelspec": {
   "display_name": "Python 3 (ipykernel)",
   "language": "python",
   "name": "python3"
  },
  "language_info": {
   "codemirror_mode": {
    "name": "ipython",
    "version": 3
   },
   "file_extension": ".py",
   "mimetype": "text/x-python",
   "name": "python",
   "nbconvert_exporter": "python",
   "pygments_lexer": "ipython3",
   "version": "3.9.6"
  },
  "vscode": {
   "interpreter": {
    "hash": "1c4eeb78d5e1dc6cb6e62b5bd20620b702dce5b8b8ded6688ef7aad2e1c0d17c"
   }
  }
 },
 "nbformat": 4,
 "nbformat_minor": 5
}
