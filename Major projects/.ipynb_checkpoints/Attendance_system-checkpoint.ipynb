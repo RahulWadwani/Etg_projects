{
 "cells": [
  {
   "cell_type": "markdown",
   "id": "c6550cdf",
   "metadata": {},
   "source": [
    "# Attendance System to save your login and logout timings "
   ]
  },
  {
   "cell_type": "markdown",
   "id": "050bb617",
   "metadata": {},
   "source": [
    "# Importing Details "
   ]
  },
  {
   "cell_type": "code",
   "execution_count": null,
   "id": "03d48311",
   "metadata": {},
   "outputs": [
    {
     "name": "stdout",
     "output_type": "stream",
     "text": [
      "Enter your name : Rahul\n",
      "Enter your email : rahulwadwani@gmail.com\n",
      "Enter your phone : 4152637859\n"
     ]
    }
   ],
   "source": [
    "import time \n",
    "\n",
    "#inputting the values from the user \n",
    "name = str(input('Enter your name : '))\n",
    "email = str(input('Enter your email : '))\n",
    "phone = str(input('Enter your phone : '))\n",
    "login = time.strftime('%H:%M:%S')\n",
    "\n",
    "#logout logic \n",
    "while True:\n",
    "    input_ = str(input('Do you want to logout: '))\n",
    "    if input_ == 'q' or input_ == 'y':\n",
    "        password = int(input(\"Enter your password to logout : \"))\n",
    "        if password ==int(phone):\n",
    "            logout = time.strftime('%H:%M:%S')\n",
    "            break\n",
    "\n",
    "#opening and updating the file             \n",
    "fd = open('attendance.txt','a')\n",
    "fd.write(name)\n",
    "fd.write(' , ')\n",
    "fd.write(email)\n",
    "fd.write(' , ')\n",
    "fd.write(phone)\n",
    "fd.write(' , ')\n",
    "fd.write('Login_time : ')\n",
    "fd.write(login)\n",
    "fd.write(' , ')\n",
    "fd.write('Logout_time : ')\n",
    "fd.write(logout)\n",
    "fd.write(' \\n ')\n",
    "fd.close()"
   ]
  },
  {
   "cell_type": "markdown",
   "id": "b5d0586c",
   "metadata": {},
   "source": [
    "# check_mail function"
   ]
  },
  {
   "cell_type": "markdown",
   "id": "3dc5eaca",
   "metadata": {},
   "source": [
    "## Method 1 to find out the mail is valid or not valid "
   ]
  },
  {
   "cell_type": "code",
   "execution_count": 1,
   "id": "72af95e0",
   "metadata": {},
   "outputs": [],
   "source": [
    "def check_email(email):\n",
    "    valid = False\n",
    "    if len(email.split('@')) == 2:                             # to check whether @ is present or not \n",
    "        if (len(email.split('@')[0]) != 0):                    # to check the username is present or not \n",
    "            if (len(email.split('@')[1].split('.')) == 2):     # to check whether . is present or not \n",
    "                temp = email.split('@')[1].split('.')\n",
    "                if (len(temp[0]) >= 1 and len(temp[1]) >= 1):  # to check post and prefix is present or not \n",
    "                    valid = True\n",
    "    return valid "
   ]
  },
  {
   "cell_type": "markdown",
   "id": "bf7b356d",
   "metadata": {},
   "source": [
    "## Method 2 to find out whether the mail is valid or not valid "
   ]
  },
  {
   "cell_type": "code",
   "execution_count": 6,
   "id": "4ccbf698",
   "metadata": {},
   "outputs": [],
   "source": [
    "def mail_checker(mail):\n",
    "    validation = mail.split('.')[0].split('@')\n",
    "    if validation == True:\n",
    "        return True\n",
    "    else :\n",
    "        return False "
   ]
  },
  {
   "cell_type": "code",
   "execution_count": 7,
   "id": "169f7030",
   "metadata": {},
   "outputs": [
    {
     "data": {
      "text/plain": [
       "False"
      ]
     },
     "execution_count": 7,
     "metadata": {},
     "output_type": "execute_result"
    }
   ],
   "source": [
    "mail_checker('www.google.com')"
   ]
  },
  {
   "cell_type": "code",
   "execution_count": 2,
   "id": "986702db",
   "metadata": {},
   "outputs": [
    {
     "data": {
      "text/plain": [
       "True"
      ]
     },
     "execution_count": 2,
     "metadata": {},
     "output_type": "execute_result"
    }
   ],
   "source": [
    "check_email('rahulwadwani@gmail.com')"
   ]
  },
  {
   "cell_type": "markdown",
   "id": "763341e2",
   "metadata": {},
   "source": [
    "# check_phone function"
   ]
  },
  {
   "cell_type": "code",
   "execution_count": null,
   "id": "ee5ac920",
   "metadata": {},
   "outputs": [],
   "source": [
    "def check_phone(phone):\n",
    "#    phone = str(phone)\n",
    "    c = 0\n",
    "    for i in phone:\n",
    "        if ord(str(i))>=48 and ord(str(i))<=57:    #checking whether character is present or not \n",
    "            c += 1\n",
    "    if (c == 10 and len(phone) == 10):            #each character should be of length 10 \n",
    "        return True \n",
    "    else:\n",
    "        return False"
   ]
  },
  {
   "cell_type": "markdown",
   "id": "7ebbc63c",
   "metadata": {},
   "source": [
    "# Opening the file and reading it "
   ]
  },
  {
   "cell_type": "code",
   "execution_count": 4,
   "id": "499b530f",
   "metadata": {},
   "outputs": [
    {
     "name": "stdout",
     "output_type": "stream",
     "text": [
      " Rahul  , rahul@gmail.com , 7894561230 , Login_time : 12:30:48 , Logout_time : 12:31:54 \n",
      " zaheer  , zaheer@gmail.com , 9876543210 , Login_time : 12:32:46 , Logout_time : 12:33:34 \n",
      " virat  , kohli@gmail.com , 7418529630 , Login_time : 12:33:55 , Logout_time : 12:35:18 \n",
      " \n"
     ]
    }
   ],
   "source": [
    "fd = open('attendance.txt','r')\n",
    "text = fd.read()\n",
    "fd.close()\n",
    "print(text)"
   ]
  },
  {
   "cell_type": "markdown",
   "id": "e0dc34d9",
   "metadata": {},
   "source": [
    "# Getting the phone number"
   ]
  },
  {
   "cell_type": "code",
   "execution_count": 16,
   "id": "07611302",
   "metadata": {},
   "outputs": [
    {
     "name": "stdout",
     "output_type": "stream",
     "text": [
      "[' Rahul  , rahul@gmail.com , 7894561230 , Login_time : 12:30:48 , Logout_time : 12:31:54 ', ' zaheer  , zaheer@gmail.com , 9876543210 , Login_time : 12:32:46 , Logout_time : 12:33:34 ', ' virat  , kohli@gmail.com , 7418529630 , Login_time : 12:33:55 , Logout_time : 12:35:18 ']\n",
      " Rahul  \n",
      " zaheer  \n",
      " virat  \n"
     ]
    }
   ],
   "source": [
    "users = text.split('\\n')[:-1]\n",
    "print(users)\n",
    "for user in users:\n",
    "    name = user.split(',')[0]\n",
    "    email = user.split(',')[1]\n",
    "    phone = user.split(',')[2]\n",
    "    "
   ]
  },
  {
   "cell_type": "markdown",
   "id": "decb4675",
   "metadata": {},
   "source": [
    "# Logic for calculating the time "
   ]
  },
  {
   "cell_type": "code",
   "execution_count": 2,
   "id": "dd39fe55",
   "metadata": {},
   "outputs": [
    {
     "ename": "NameError",
     "evalue": "name 'users' is not defined",
     "output_type": "error",
     "traceback": [
      "\u001b[1;31m---------------------------------------------------------------------------\u001b[0m",
      "\u001b[1;31mNameError\u001b[0m                                 Traceback (most recent call last)",
      "Input \u001b[1;32mIn [2]\u001b[0m, in \u001b[0;36m<module>\u001b[1;34m\u001b[0m\n\u001b[1;32m----> 1\u001b[0m \u001b[38;5;28;01mfor\u001b[39;00m user \u001b[38;5;129;01min\u001b[39;00m \u001b[43musers\u001b[49m:\n\u001b[0;32m      2\u001b[0m     log_in \u001b[38;5;241m=\u001b[39m user\u001b[38;5;241m.\u001b[39msplit(\u001b[38;5;124m'\u001b[39m\u001b[38;5;124m,\u001b[39m\u001b[38;5;124m'\u001b[39m)[\u001b[38;5;241m3\u001b[39m]\n\u001b[0;32m      3\u001b[0m     log_out \u001b[38;5;241m=\u001b[39m user\u001b[38;5;241m.\u001b[39msplit(\u001b[38;5;124m'\u001b[39m\u001b[38;5;124m,\u001b[39m\u001b[38;5;124m'\u001b[39m)[\u001b[38;5;241m4\u001b[39m]\n",
      "\u001b[1;31mNameError\u001b[0m: name 'users' is not defined"
     ]
    }
   ],
   "source": [
    "for user in users:\n",
    "    log_in = user.split(',')[3]\n",
    "    log_out = user.split(',')[4]\n",
    "    print(log_in[14:])\n",
    "    print(str(log_out[15:]))"
   ]
  },
  {
   "cell_type": "code",
   "execution_count": null,
   "id": "43de93fb",
   "metadata": {},
   "outputs": [],
   "source": []
  }
 ],
 "metadata": {
  "kernelspec": {
   "display_name": "Python 3 (ipykernel)",
   "language": "python",
   "name": "python3"
  },
  "language_info": {
   "codemirror_mode": {
    "name": "ipython",
    "version": 3
   },
   "file_extension": ".py",
   "mimetype": "text/x-python",
   "name": "python",
   "nbconvert_exporter": "python",
   "pygments_lexer": "ipython3",
   "version": "3.9.6"
  },
  "vscode": {
   "interpreter": {
    "hash": "1c4eeb78d5e1dc6cb6e62b5bd20620b702dce5b8b8ded6688ef7aad2e1c0d17c"
   }
  }
 },
 "nbformat": 4,
 "nbformat_minor": 5
}
