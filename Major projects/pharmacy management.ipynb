{
 "cells": [
  {
   "cell_type": "markdown",
   "metadata": {},
   "source": [
    "# creating a json file to take the loads and dumps of all the entered data "
   ]
  },
  {
   "cell_type": "code",
   "execution_count": 1,
   "metadata": {},
   "outputs": [],
   "source": [
    "from json import loads, dumps \n",
    "meds ={ 123456:{'name':'Disprin 325 MG','description':'used for headaches, pain and fever','tablets':12,'amount': 9.52,'stock': 5 },\n",
    "        123457:{'name':'Disperzyme ','description':'used for nausea, vomiting,flatulence','tablets':10,'amount': 585.65,'stock': 8 }\n",
    "    } \n",
    "fd = open('medics.json','a')\n",
    "fd.write(dumps(meds))\n",
    "fd.close()\n",
    "\n"
   ]
  },
  {
   "cell_type": "markdown",
   "metadata": {},
   "source": [
    "# Adding more meds "
   ]
  },
  {
   "cell_type": "code",
   "execution_count": 4,
   "metadata": {},
   "outputs": [
    {
     "name": "stdout",
     "output_type": "stream",
     "text": [
      "Enter product_id            : 123458\n",
      "Enter the medicines name    : RespiFresh-D\n",
      "Enter the description       : decongestant, anti-allergic,cough syrup\n",
      "Enter the number of tablets : liquid bottle\n",
      "Enter the amount            : 90\n",
      "Enter stock size            : 10\n"
     ]
    }
   ],
   "source": [
    "prod_id  = str(input('Enter product_id            : '))\n",
    "med_name = str(input('Enter the medicines name    : '))\n",
    "med_des  = str(input('Enter the description       : '))\n",
    "tab      = str(input('Enter the number of tablets : '))\n",
    "amt      = str(input('Enter the amount            : '))\n",
    "stock    = str(input('Enter stock size            : '))\n",
    "med_des = {}\n",
    "med_des['name'] = med_name\n",
    "med_des['description'] = med_des\n",
    "med_des['tablets'] = tab\n",
    "med_des['amount'] = amt\n",
    "med_des['stock'] = stock\n",
    "meds[prod_id] = med_des\n"
   ]
  },
  {
   "cell_type": "code",
   "execution_count": 7,
   "metadata": {},
   "outputs": [
    {
     "data": {
      "text/plain": [
       "{123456: {'name': 'Disprin 325 MG',\n",
       "  'description': 'used for headaches, pain and fever',\n",
       "  'tablets': 12,\n",
       "  'amount': 9.52,\n",
       "  'stock': 5},\n",
       " 123457: {'name': 'Disperzyme ',\n",
       "  'description': 'used for nausea, vomiting,flatulence',\n",
       "  'tablets': 10,\n",
       "  'amount': 585.65,\n",
       "  'stock': 8},\n",
       " '123458': {'name': 'RespiFresh-D',\n",
       "  'description': {...},\n",
       "  'tablets': 'liquid bottle',\n",
       "  'amount': '90',\n",
       "  'stock': '10'}}"
      ]
     },
     "execution_count": 7,
     "metadata": {},
     "output_type": "execute_result"
    }
   ],
   "source": [
    "meds"
   ]
  },
  {
   "cell_type": "code",
   "execution_count": null,
   "metadata": {},
   "outputs": [],
   "source": []
  },
  {
   "cell_type": "code",
   "execution_count": null,
   "metadata": {},
   "outputs": [],
   "source": []
  }
 ],
 "metadata": {
  "kernelspec": {
   "display_name": "Python 3 (ipykernel)",
   "language": "python",
   "name": "python3"
  },
  "language_info": {
   "codemirror_mode": {
    "name": "ipython",
    "version": 3
   },
   "file_extension": ".py",
   "mimetype": "text/x-python",
   "name": "python",
   "nbconvert_exporter": "python",
   "pygments_lexer": "ipython3",
   "version": "3.9.6"
  },
  "vscode": {
   "interpreter": {
    "hash": "1c4eeb78d5e1dc6cb6e62b5bd20620b702dce5b8b8ded6688ef7aad2e1c0d17c"
   }
  }
 },
 "nbformat": 4,
 "nbformat_minor": 2
}
