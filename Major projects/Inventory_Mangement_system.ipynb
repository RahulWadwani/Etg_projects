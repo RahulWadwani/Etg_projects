{
 "cells": [
  {
   "cell_type": "markdown",
   "id": "4980be99",
   "metadata": {},
   "source": [
    "# write a program to product id as key and dict as values with product details for inventory management systems "
   ]
  },
  {
   "cell_type": "code",
   "execution_count": 4,
   "id": "b0e6b922",
   "metadata": {},
   "outputs": [],
   "source": [
    "import datetime"
   ]
  },
  {
   "cell_type": "markdown",
   "id": "a5c885d2",
   "metadata": {},
   "source": [
    "### Using multi dimensional dictionary "
   ]
  },
  {
   "cell_type": "code",
   "execution_count": 1,
   "id": "3959c989",
   "metadata": {},
   "outputs": [],
   "source": [
    "# creating a list of dictionary of products \n",
    "dct = { # product_id and product values\n",
    "          1312:{'product_name':'Boult Earbuds','product_category':'Electronics','price':499,'total':50},\n",
    "          1322:{'product_name':'Acer Laptop','product_category':'Electronics devices','price':14999,'total':10},\n",
    "          1332:{'product_name':'Nike Shoes','product_category':'Shoes','price':1499,'total':15},\n",
    "          1342:{'product_name':'Gucci T-shirt','product_category':'Clothing','price':899,'total':25},\n",
    "          1352:{'product_name':'Apple Watch','product_category':'Wearables','price':25499,'total':10}\n",
    "}"
   ]
  },
  {
   "cell_type": "markdown",
   "id": "c024d517",
   "metadata": {},
   "source": [
    "### checking the items in the dictionary "
   ]
  },
  {
   "cell_type": "code",
   "execution_count": 38,
   "id": "7db95da6",
   "metadata": {},
   "outputs": [
    {
     "data": {
      "text/plain": [
       "dict_keys([1312, 1322, 1332, 1342, 1352])"
      ]
     },
     "execution_count": 38,
     "metadata": {},
     "output_type": "execute_result"
    }
   ],
   "source": [
    "dct.keys()"
   ]
  },
  {
   "cell_type": "markdown",
   "id": "4dea4c7f",
   "metadata": {},
   "source": [
    "# Consumer side "
   ]
  },
  {
   "cell_type": "markdown",
   "id": "9163d7bb",
   "metadata": {},
   "source": [
    "### Adding new products "
   ]
  },
  {
   "cell_type": "code",
   "execution_count": 40,
   "id": "1a30cb2d",
   "metadata": {},
   "outputs": [
    {
     "name": "stdout",
     "output_type": "stream",
     "text": [
      "Enter the product key: 1323\n",
      "Enter product name: Redmi note 7s pro\n",
      "Enter product category :Mobiles \n",
      "Enter the price: 12500\n"
     ]
    }
   ],
   "source": [
    "prod_key      = int(input(\"Enter the product key: \"))\n",
    "if prod_key in dct.keys():\n",
    "    print('Product already exits in the Inventory ')\n",
    "else:\n",
    "    prod_name     = str(input(\"Enter product name: \"))\n",
    "    prod_category = str(input(\"Enter product category :\"))\n",
    "    price = int(input(\"Enter the price: \"))\n",
    "    prod = {}\n",
    "    prod['product_name'] = prod_name.capitalize()\n",
    "    prod['product_category'] = prod_category\n",
    "    prod['price'] = price\n",
    "    dct[prod_key] = prod          "
   ]
  },
  {
   "cell_type": "markdown",
   "id": "1abc7167",
   "metadata": {},
   "source": [
    "### Searching based on Product_name"
   ]
  },
  {
   "cell_type": "code",
   "execution_count": 31,
   "id": "0821f2a5",
   "metadata": {},
   "outputs": [
    {
     "name": "stdout",
     "output_type": "stream",
     "text": [
      "Enter the product name : boult earbuds\n",
      "Enter the quantity     : 1\n",
      "Product Name                   :  Boult Earbuds\n",
      "Category                       :  Electronics\n",
      "Quantity                       :  1\n",
      "Price                          :  Rs. 499\n",
      "False\n",
      "False\n",
      "False\n",
      "False\n",
      "do you wish to purchase the item y\n"
     ]
    }
   ],
   "source": [
    "prod_name = str(input('Enter the product name : '))\n",
    "quantity  = int(input('Enter the quantity     : '))\n",
    "for i in dct:\n",
    "    if (prod_name.lower() == (dct[i]['product_name']).lower()):\n",
    "        print('Product Name                   : ',dct[i]['product_name'])\n",
    "        print('Category                       : ',dct[i]['product_category'])\n",
    "        print('Quantity                       : ',quantity)\n",
    "        print('Price                          :  Rs.',dct[i]['price'])\n",
    "\n",
    "\n",
    "\n",
    "\n"
   ]
  },
  {
   "cell_type": "code",
   "execution_count": 32,
   "id": "2a8948e6",
   "metadata": {},
   "outputs": [
    {
     "data": {
      "text/plain": [
       "{1312: {'product_name': 'Boult Earbuds',\n",
       "  'product_category': 'Electronics',\n",
       "  'price': 499,\n",
       "  'total': 48},\n",
       " 1322: {'product_name': 'Acer Laptop',\n",
       "  'product_category': 'Electronics devices',\n",
       "  'price': 14999,\n",
       "  'total': 8},\n",
       " 1332: {'product_name': 'Nike Shoes',\n",
       "  'product_category': 'Shoes',\n",
       "  'price': 1499,\n",
       "  'total': 13},\n",
       " 1342: {'product_name': 'Gucci T-shirt',\n",
       "  'product_category': 'Clothing',\n",
       "  'price': 899,\n",
       "  'total': 23},\n",
       " 1352: {'product_name': 'Apple Watch',\n",
       "  'product_category': 'Wearables',\n",
       "  'price': 25499,\n",
       "  'total': 8}}"
      ]
     },
     "execution_count": 32,
     "metadata": {},
     "output_type": "execute_result"
    }
   ],
   "source": [
    "dct\n"
   ]
  },
  {
   "cell_type": "markdown",
   "id": "697f06bb",
   "metadata": {},
   "source": [
    "### Searching based on product category"
   ]
  },
  {
   "cell_type": "code",
   "execution_count": 49,
   "id": "48389041",
   "metadata": {},
   "outputs": [
    {
     "name": "stdout",
     "output_type": "stream",
     "text": [
      "Enter the product name :electronics\n",
      "Product Name :  Boult Earbuds\n",
      "Category     :  Electronics\n",
      "Price        :  Rs. 499\n"
     ]
    }
   ],
   "source": [
    "prod_name = str(input('Enter the product name :'))\n",
    "for i in dct:\n",
    "    if (prod_name.lower() == (dct[i]['product_category']).lower()):\n",
    "        print('Product Name : ',dct[i]['product_name'])\n",
    "        print('Category     : ',dct[i]['product_category'])\n",
    "        print('Price        :  Rs.',dct[i]['price'])\n"
   ]
  },
  {
   "cell_type": "markdown",
   "id": "8167a11d",
   "metadata": {},
   "source": [
    "# Setting the purchased delivery date "
   ]
  },
  {
   "cell_type": "code",
   "execution_count": 6,
   "id": "3fc17c7a",
   "metadata": {},
   "outputs": [],
   "source": [
    "def del_date():\n",
    "    t_day = datetime.date.today()\n",
    "    tdelta = datetime.timedelta(days = 4)\n",
    "    return (t_day + tdelta)\n",
    "    "
   ]
  },
  {
   "cell_type": "markdown",
   "id": "96db1603",
   "metadata": {},
   "source": []
  },
  {
   "cell_type": "code",
   "execution_count": 35,
   "id": "e1c3d686",
   "metadata": {},
   "outputs": [
    {
     "name": "stdout",
     "output_type": "stream",
     "text": [
      "Enter the product name : boult earbuds\n",
      "Enter the quantity     : 2\n",
      "Product Name                   :  Boult Earbuds\n",
      "Category                       :  Electronics\n",
      "Quantity                       :  2\n",
      "Price                          :  Rs. 499\n",
      "do you wish to purchase the item y\n",
      "Congratulations you have successfully purchased  Apple Watch\n"
     ]
    }
   ],
   "source": [
    "prod_name = str(input('Enter the product name : '))\n",
    "quantity  = int(input('Enter the quantity     : '))\n",
    "for i in dct:\n",
    "    if (prod_name.lower() == (dct[i]['product_name']).lower()):\n",
    "        print('Product Name                   : ',dct[i]['product_name'])\n",
    "        print('Category                       : ',dct[i]['product_category'])\n",
    "        print('Quantity                       : ',quantity)\n",
    "        print('Price                          :  Rs.',dct[i]['price'])\n",
    "\n",
    "order = input('do you wish to purchase the item ')\n",
    "if order.lower() == 'Y' or 'YES':\n",
    "    for prod_name in dct:\n",
    "        dct[prod_name]['total'] = dct[prod_name]['total'] - quantity\n",
    "print('Congratulations you have successfully purchased',dct[i]['product_name'])"
   ]
  },
  {
   "cell_type": "code",
   "execution_count": null,
   "id": "7bf29552",
   "metadata": {},
   "outputs": [],
   "source": []
  },
  {
   "cell_type": "code",
   "execution_count": null,
   "id": "441b8aab",
   "metadata": {},
   "outputs": [],
   "source": []
  },
  {
   "cell_type": "code",
   "execution_count": null,
   "id": "aa995f96",
   "metadata": {},
   "outputs": [],
   "source": []
  }
 ],
 "metadata": {
  "kernelspec": {
   "display_name": "Python 3 (ipykernel)",
   "language": "python",
   "name": "python3"
  },
  "language_info": {
   "codemirror_mode": {
    "name": "ipython",
    "version": 3
   },
   "file_extension": ".py",
   "mimetype": "text/x-python",
   "name": "python",
   "nbconvert_exporter": "python",
   "pygments_lexer": "ipython3",
   "version": "3.9.6"
  },
  "vscode": {
   "interpreter": {
    "hash": "1c4eeb78d5e1dc6cb6e62b5bd20620b702dce5b8b8ded6688ef7aad2e1c0d17c"
   }
  }
 },
 "nbformat": 4,
 "nbformat_minor": 5
}
