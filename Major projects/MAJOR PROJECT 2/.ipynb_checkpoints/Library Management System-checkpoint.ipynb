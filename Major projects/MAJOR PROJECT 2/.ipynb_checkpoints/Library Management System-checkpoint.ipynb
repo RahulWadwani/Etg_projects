{
 "cells": [
  {
   "cell_type": "markdown",
   "id": "01df80c7",
   "metadata": {},
   "source": [
    "# Creating Book Databases \n"
   ]
  },
  {
   "cell_type": "code",
   "execution_count": 7,
   "id": "a8deb976",
   "metadata": {},
   "outputs": [],
   "source": [
    "import datetime"
   ]
  },
  {
   "cell_type": "markdown",
   "id": "2d00ec28",
   "metadata": {},
   "source": [
    "## Databases of books that contains | dictionary \n",
    "1) **book name**\n",
    "2) **book id**\n",
    "3) **Quantity**\n",
    "4) **Genre**\n",
    "5) **Price**\n",
    "6) **Author**"
   ]
  },
  {
   "cell_type": "code",
   "execution_count": 81,
   "id": "5a045ffb",
   "metadata": {},
   "outputs": [
    {
     "name": "stdout",
     "output_type": "stream",
     "text": [
      "2022-12-22\n"
     ]
    },
    {
     "ename": "AttributeError",
     "evalue": "module 'datetime' has no attribute 'now'",
     "output_type": "error",
     "traceback": [
      "\u001b[1;31m---------------------------------------------------------------------------\u001b[0m",
      "\u001b[1;31mAttributeError\u001b[0m                            Traceback (most recent call last)",
      "Input \u001b[1;32mIn [81]\u001b[0m, in \u001b[0;36m<module>\u001b[1;34m\u001b[0m\n\u001b[0;32m      1\u001b[0m \u001b[38;5;28mprint\u001b[39m(datetime\u001b[38;5;241m.\u001b[39mdate\u001b[38;5;241m.\u001b[39mtoday())\n\u001b[1;32m----> 2\u001b[0m \u001b[38;5;28mprint\u001b[39m(\u001b[43mdatetime\u001b[49m\u001b[38;5;241;43m.\u001b[39;49m\u001b[43mnow\u001b[49m())\n",
      "\u001b[1;31mAttributeError\u001b[0m: module 'datetime' has no attribute 'now'"
     ]
    }
   ],
   "source": [
    "print(datetime.date.today())\n"
   ]
  },
  {
   "cell_type": "code",
   "execution_count": 45,
   "id": "94f268ac",
   "metadata": {},
   "outputs": [],
   "source": [
    "# books database \n",
    "book_db = {123456:\n",
    "           {\n",
    "               'book_name' : 'atomic habits ',\n",
    "               'Quantity'  : 10,\n",
    "               'Genre'     : 'self-help book',\n",
    "               'Price'     : 434,\n",
    "               'Author'    : 'James Clear'\n",
    "           }\n",
    "          }"
   ]
  },
  {
   "cell_type": "code",
   "execution_count": 43,
   "id": "d127dc04",
   "metadata": {},
   "outputs": [],
   "source": [
    "# students database \n",
    "student_db = {19131001:\n",
    "              {\n",
    "                  'student_name'   : 'Rahul Wadwani',\n",
    "                  'grad_year'      : '2023',\n",
    "                  'grad_degree'    : 'Bachelors in technology' \n",
    "                  'books_issued'   : [123455,123456,123445]\n",
    "                  'issue_date'     : datetime.date.today()\n",
    "                  'expiry_date'    : \n",
    "                   \n",
    "               }\n",
    "             }"
   ]
  },
  {
   "cell_type": "markdown",
   "id": "2aaeec3e",
   "metadata": {},
   "source": [
    "# Adding more students to Students database"
   ]
  },
  {
   "cell_type": "code",
   "execution_count": 50,
   "id": "418b6859",
   "metadata": {},
   "outputs": [
    {
     "name": "stdout",
     "output_type": "stream",
     "text": [
      "Enter your Student Id : 19131003\n",
      "Enter your Name : Ramesh\n",
      "Enter your Graduation Year : 2023\n",
      "Enter your Graduation Degree : Bachelors in commerce\n"
     ]
    }
   ],
   "source": [
    "student_id = input('Enter your Student Id : ')\n",
    "stud_name = input('Enter your Name : ')\n",
    "grad_year = input('Enter your Graduation Year : ')\n",
    "grad_degree = input('Enter your Graduation Degree : ')\n",
    "dct = {}\n",
    "dct['student_name'] = stud_name \n",
    "dct['grad_year'] = grad_year \n",
    "dct['grad_degree'] = grad_degree \n",
    "student_db[student_id ] = dct"
   ]
  },
  {
   "cell_type": "markdown",
   "id": "67ac4c10",
   "metadata": {},
   "source": [
    "# Adding more Books to book database "
   ]
  },
  {
   "cell_type": "code",
   "execution_count": 52,
   "id": "f6cca569",
   "metadata": {},
   "outputs": [
    {
     "name": "stdout",
     "output_type": "stream",
     "text": [
      "Enter book id : 123455\n",
      "Enter Book Name : Microwave Engineering \n",
      "Enter the quantity of the books present : 15\n",
      "Enter the Genre of the book : Engineering\n",
      "Enter the price of the book : 1000\n",
      "Enter the name of the Author : Samuel liao\n"
     ]
    }
   ],
   "source": [
    "book_id = input('Enter book id : ')\n",
    "book_name = input('Enter Book Name : ')\n",
    "Quantity = input('Enter the quantity of the books present : ')\n",
    "Genre = input('Enter the Genre of the book : ')\n",
    "Price = input('Enter the price of the book : ')\n",
    "Author = input('Enter the name of the Author : ')\n",
    "dct1 = {} \n",
    "dct1['book_name'] = book_name\n",
    "dct1['Quantity'] = Quantity\n",
    "dct1['Genre'] = Genre\n",
    "dct1['Price'] = Price\n",
    "dct1['Author'] = Author\n",
    "\n",
    "book_db[book_id] = dct1"
   ]
  },
  {
   "cell_type": "code",
   "execution_count": null,
   "id": "177245c8",
   "metadata": {},
   "outputs": [],
   "source": []
  },
  {
   "cell_type": "code",
   "execution_count": 58,
   "id": "2ec96cda",
   "metadata": {},
   "outputs": [
    {
     "name": "stdout",
     "output_type": "stream",
     "text": [
      "Enter book id / name 123456\n",
      "Enter book id / name 123455\n",
      "Enter book id / name 123454\n"
     ]
    }
   ],
   "source": [
    "lis = [] \n",
    "for a in range(0,3):\n",
    "    a = input('Enter book id / name ')\n",
    "    lis.append(a)\n",
    "dct = {'purchase': lis}"
   ]
  },
  {
   "cell_type": "code",
   "execution_count": 59,
   "id": "10e74e78",
   "metadata": {},
   "outputs": [
    {
     "data": {
      "text/plain": [
       "{'purchase': ['123456', '123455', '123454']}"
      ]
     },
     "execution_count": 59,
     "metadata": {},
     "output_type": "execute_result"
    }
   ],
   "source": [
    "dct"
   ]
  },
  {
   "cell_type": "code",
   "execution_count": null,
   "id": "cc9f89d5",
   "metadata": {},
   "outputs": [],
   "source": []
  },
  {
   "cell_type": "code",
   "execution_count": null,
   "id": "3dc69dbe",
   "metadata": {},
   "outputs": [],
   "source": []
  },
  {
   "cell_type": "code",
   "execution_count": null,
   "id": "f43229f8",
   "metadata": {},
   "outputs": [],
   "source": []
  },
  {
   "cell_type": "code",
   "execution_count": null,
   "id": "6f32271d",
   "metadata": {},
   "outputs": [],
   "source": []
  },
  {
   "cell_type": "code",
   "execution_count": null,
   "id": "1938edbe",
   "metadata": {},
   "outputs": [],
   "source": []
  },
  {
   "cell_type": "code",
   "execution_count": null,
   "id": "62e83f18",
   "metadata": {},
   "outputs": [],
   "source": []
  }
 ],
 "metadata": {
  "kernelspec": {
   "display_name": "Python 3 (ipykernel)",
   "language": "python",
   "name": "python3"
  },
  "language_info": {
   "codemirror_mode": {
    "name": "ipython",
    "version": 3
   },
   "file_extension": ".py",
   "mimetype": "text/x-python",
   "name": "python",
   "nbconvert_exporter": "python",
   "pygments_lexer": "ipython3",
   "version": "3.9.6"
  }
 },
 "nbformat": 4,
 "nbformat_minor": 5
}
