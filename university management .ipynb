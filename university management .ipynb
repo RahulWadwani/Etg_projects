{
 "cells": [
  {
   "cell_type": "markdown",
   "id": "77a094f9",
   "metadata": {},
   "source": [
    "# University management "
   ]
  },
  {
   "cell_type": "markdown",
   "id": "074407bf",
   "metadata": {},
   "source": [
    "## Student details "
   ]
  },
  {
   "cell_type": "code",
   "execution_count": 2,
   "id": "90050319",
   "metadata": {},
   "outputs": [],
   "source": [
    "student_details = {45551255 : {'first_name'     : 'Rahul' , # registration as key and details of students as value  \n",
    "                              'last_name'      : 'Wadwani' ,\n",
    "                              'contact_number' : 9898979799,\n",
    "                              'email'          : 'rahulwadwani@gmail.com',\n",
    "                              'degree'         : 'B.Tech',\n",
    "                              'batch'          : '2019-2023'},\n",
    "                   45551256 : {'first_name'     : 'Suraj' ,\n",
    "                              'last_name'      : 'Thakur' ,\n",
    "                              'contact_number' : 9898979745,\n",
    "                              'email'          : 'surajthakur@gmail.com',\n",
    "                              'degree'         : 'B.Tech',\n",
    "                              'batch'          : '2019-2023'},\n",
    "                   45551257 : {'first_name'     : 'Suraj ' ,\n",
    "                               'last_name'      : 'Shewale' ,\n",
    "                               'contact_number' : 9898979756,\n",
    "                               'email'          : 'surajshewale@gmail.com',\n",
    "                               'degree'         : 'B.Tech',\n",
    "                               'batch'          : '2019-2023'},\n",
    "                   45551258 : {'first_name'     : 'Yogesh' ,\n",
    "                               'last_name'      : 'Patil' ,\n",
    "                               'contact_number' : 9898979787,\n",
    "                               'email'          : 'yogeshpatil@gmail.com',\n",
    "                               'degree'         : 'B.Tech',                   \n",
    "                               'batch'          : '2019-2023'}}"
   ]
  },
  {
   "cell_type": "markdown",
   "id": "cee86272",
   "metadata": {},
   "source": [
    "## Displaying the student details and accessing the entire details about the students data "
   ]
  },
  {
   "cell_type": "code",
   "execution_count": 3,
   "id": "189fdd96",
   "metadata": {},
   "outputs": [
    {
     "name": "stdout",
     "output_type": "stream",
     "text": [
      "what do you want first_name\n",
      "Rahul\n",
      "Suraj\n",
      "Suraj \n",
      "Yogesh\n"
     ]
    }
   ],
   "source": [
    "#for i in student_details :\n",
    "#   print(student_details[i])#this will return you the value of entire details of a particular student \n",
    "j = input(\"what do you want \")\n",
    "for i in student_details :\n",
    "    if j == 'first_name' or 'last_name' or 'contact_number' or 'email' or 'degree' or 'batch':\n",
    "        print(student_details[i][j])#this will give you the first name of all the students in an \n",
    "    else :\n",
    "        print('invalid input ') # for other inputs  "
   ]
  },
  {
   "cell_type": "markdown",
   "id": "aff0ec1f",
   "metadata": {},
   "source": [
    "## Adding new student details "
   ]
  },
  {
   "cell_type": "code",
   "execution_count": 6,
   "id": "bd6bcd64",
   "metadata": {},
   "outputs": [
    {
     "name": "stdout",
     "output_type": "stream",
     "text": [
      "Enter your Registration number45545621\n",
      "Enter your first name:sunil \n",
      "Enter your last name :rathod\n",
      "Enter your parents mobile number:9878456512\n",
      "Enter your email:sunilrathod@gmail.com\n",
      "Enter your current pursuing degree :B.Tech\n",
      "Enter your batch :2019-2023\n"
     ]
    }
   ],
   "source": [
    "def add_student():\n",
    "    #inputing the values from the user\n",
    "    registration_no = int(input(\"Enter your Registration number\"))\n",
    "    firstname = str(input(\"Enter your first name:\"))\n",
    "    lastname = str(input(\"Enter your last name :\"))\n",
    "    contactnumber = int(input (\"Enter your parents mobile number:\"))\n",
    "    email = str(input(\"Enter your email:\"))\n",
    "    degree = str(input(\"Enter your current pursuing degree :\"))\n",
    "    batch = str(input(\"Enter your batch :\"))\n",
    "    \n",
    "    #creating dictionary and inputing the values to the main dictionary\n",
    "    student = {}\n",
    "    student['first_name'] = firstname\n",
    "    student['last_name'] = lastname\n",
    "    student['contact_number'] = contactnumber\n",
    "    student['email'] = email\n",
    "    student['degree'] = degree\n",
    "    student['batch'] = batch\n",
    "    student_details[registration_no] = student \n",
    "\n",
    "add_student()"
   ]
  },
  {
   "cell_type": "code",
   "execution_count": 7,
   "id": "fe074eef",
   "metadata": {},
   "outputs": [
    {
     "name": "stdout",
     "output_type": "stream",
     "text": [
      "{45551255: {'first_name': 'Rahul', 'last_name': 'Wadwani', 'contact_number': 9898979799, 'email': 'rahulwadwani@gmail.com', 'degree': 'B.Tech', 'batch': '2019-2023'}, 45551256: {'first_name': 'Suraj', 'last_name': 'Thakur', 'contact_number': 9898979745, 'email': 'surajthakur@gmail.com', 'degree': 'B.Tech', 'batch': '2019-2023'}, 45551257: {'first_name': 'Suraj ', 'last_name': 'Shewale', 'contact_number': 9898979756, 'email': 'surajshewale@gmail.com', 'degree': 'B.Tech', 'batch': '2019-2023'}, 45551258: {'first_name': 'Yogesh', 'last_name': 'Patil', 'contact_number': 9898979787, 'email': 'yogeshpatil@gmail.com', 'degree': 'B.Tech', 'batch': '2019-2023'}, 54213254: {'first_name': 'asdf', 'last_name': 'dfgh', 'contact_number': 9887456884, 'email': 'asdf@gmail.com', 'degree': 'B.Tech', 'batch': '2019-2023'}, 45545621: {'first_name': 'sunil ', 'last_name': 'rathod', 'contact_number': 9878456512, 'email': 'sunilrathod@gmail.com', 'degree': 'B.Tech', 'batch': '2019-2023'}}\n"
     ]
    }
   ],
   "source": [
    "print(student_details)"
   ]
  },
  {
   "cell_type": "markdown",
   "id": "6abce41d",
   "metadata": {},
   "source": [
    "# Changing the values of any students "
   ]
  },
  {
   "cell_type": "code",
   "execution_count": 24,
   "id": "db0d8a82",
   "metadata": {},
   "outputs": [
    {
     "name": "stdout",
     "output_type": "stream",
     "text": [
      "Enter your Registration number :45551255\n",
      "Rahul Wadwani\n",
      "What would you like to change : first_name\n"
     ]
    }
   ],
   "source": [
    "reg_no = int(input(\"Enter your Registration number :\"))\n",
    "for i in student_details:\n",
    "    if reg_no == i :\n",
    "        print(student_details[i]['first_name'] + ' ' + (student_details[i]['last_name']))\n",
    "chng = str(input(\"What would you like to change : \"))\n",
    "for j in student_details:\n",
    "    if chng == student_details[j]['first_name']:\n",
    "        print(student_details[j]['first_name'])"
   ]
  },
  {
   "cell_type": "markdown",
   "id": "b904e209",
   "metadata": {},
   "source": [
    "# Searching based on Registration "
   ]
  },
  {
   "cell_type": "code",
   "execution_count": 12,
   "id": "8b13581a",
   "metadata": {},
   "outputs": [
    {
     "name": "stdout",
     "output_type": "stream",
     "text": [
      "enter your Roll no.:- 45551258\n",
      "-------------------------\n",
      "Name:  Yogesh Patil\n",
      "Phone:  9898979787\n",
      "Email:  yogeshpatil@gmail.com\n",
      "Degree:  B.Tech\n",
      "-------------------------\n"
     ]
    }
   ],
   "source": [
    "Reg_no = int(input('enter your Registration no.:-'))\n",
    "print('-'*25)\n",
    "print('Name: ',student_details[Reg_no]['first_name']+' '+student_details[Reg_no]['last_name'])\n",
    "print('Phone: ',student_details[Reg_no]['contact_number'])\n",
    "print('Email: ',student_details[Reg_no]['email'])\n",
    "print('Degree: ',student_details[Reg_no]['degree'])\n",
    "print('-'*25)"
   ]
  },
  {
   "cell_type": "markdown",
   "id": "9105d7c7",
   "metadata": {},
   "source": [
    "# Changing the values of any students"
   ]
  },
  {
   "cell_type": "code",
   "execution_count": null,
   "id": "28b8dd68",
   "metadata": {},
   "outputs": [],
   "source": []
  },
  {
   "cell_type": "markdown",
   "id": "d040e142",
   "metadata": {},
   "source": [
    "# Creating the hod and Teachers list "
   ]
  },
  {
   "cell_type": "code",
   "execution_count": null,
   "id": "5147f7cd",
   "metadata": {},
   "outputs": [],
   "source": []
  },
  {
   "cell_type": "markdown",
   "id": "a511b7f4",
   "metadata": {},
   "source": [
    "# Displaying Details of teachers"
   ]
  },
  {
   "cell_type": "code",
   "execution_count": null,
   "id": "19d9e840",
   "metadata": {},
   "outputs": [],
   "source": []
  },
  {
   "cell_type": "markdown",
   "id": "513002ef",
   "metadata": {},
   "source": [
    "# "
   ]
  },
  {
   "cell_type": "markdown",
   "id": "919c19e0",
   "metadata": {},
   "source": [
    "# "
   ]
  }
 ],
 "metadata": {
  "kernelspec": {
   "display_name": "Python 3 (ipykernel)",
   "language": "python",
   "name": "python3"
  },
  "language_info": {
   "codemirror_mode": {
    "name": "ipython",
    "version": 3
   },
   "file_extension": ".py",
   "mimetype": "text/x-python",
   "name": "python",
   "nbconvert_exporter": "python",
   "pygments_lexer": "ipython3",
   "version": "3.9.6"
  }
 },
 "nbformat": 4,
 "nbformat_minor": 5
}
