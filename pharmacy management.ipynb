{
 "cells": [
  {
   "cell_type": "code",
   "execution_count": 10,
   "metadata": {},
   "outputs": [],
   "source": [
    "#creating a json file to take the loads and dumps of all the entered data \n",
    "import json \n",
    "\n",
    "\n",
    "meds ={ 123456:{'name':'Disprin 325 MG','description':'used for headaches, pain and fever','tablets':12,'amount': 9.52 },\n",
    "        123457:{'name':'Disperzyme ','description':'used for nausea, vomiting,flatulence','tablets':10,'amount': 585.65 }\n",
    "    } \n",
    "\n",
    "\n",
    "fd = open('medics.json','a')\n",
    "fd.write(json.dumps(meds))\n",
    "fd.close()"
   ]
  },
  {
   "cell_type": "code",
   "execution_count": 11,
   "metadata": {},
   "outputs": [
    {
     "name": "stdout",
     "output_type": "stream",
     "text": [
      "123458\n",
      "calcimax forte plus\n",
      "used to promote calcium absorption , growth and developement of bones \n",
      "216.4\n",
      "2016\n"
     ]
    }
   ],
   "source": [
    "# adding more medicines \n",
    "\n",
    "\n",
    "\n",
    "def add_medics(product_id,name,description,tablets, amount):\n",
    "    product_id = str(input())\n",
    "    name = str(input())\n",
    "    decription = str(input())\n",
    "    tablets = str(input())\n",
    "    amount = str(input())\n",
    "    dct = {}\n",
    "    dct['name'] = name\n",
    "    dct['description'] = name\n",
    "    dct['tablets'] = name\n",
    "    dct['amount'] = name\n",
    "    meds[product_id] = dct"
   ]
  },
  {
   "cell_type": "code",
   "execution_count": 16,
   "metadata": {},
   "outputs": [
    {
     "name": "stdout",
     "output_type": "stream",
     "text": [
      "{123456: {'name': 'Disprin 325 MG', 'description': 'used for headaches, pain and fever', 'tablets': 12, 'amount': 9.52}, 123457: {'name': 'Disperzyme ', 'description': 'used for nausea, vomiting,flatulence', 'tablets': 10, 'amount': 585.65}, '123458': {'name': 'calcimax forte plus', 'description': 'calcimax forte plus', 'tablets': 'calcimax forte plus', 'amount': 'calcimax forte plus'}}\n"
     ]
    }
   ],
   "source": [
    "add_medics(product_id,name , decription , tablets , amount )\n",
    "print(meds)\n",
    "fd = open('medics.json','a')\n",
    "fd.write(json.dumps(meds))\n",
    "fd.close()"
   ]
  },
  {
   "cell_type": "code",
   "execution_count": null,
   "metadata": {},
   "outputs": [],
   "source": []
  }
 ],
 "metadata": {
  "kernelspec": {
   "display_name": "Python 3 (ipykernel)",
   "language": "python",
   "name": "python3"
  },
  "language_info": {
   "codemirror_mode": {
    "name": "ipython",
    "version": 3
   },
   "file_extension": ".py",
   "mimetype": "text/x-python",
   "name": "python",
   "nbconvert_exporter": "python",
   "pygments_lexer": "ipython3",
   "version": "3.9.6"
  },
  "vscode": {
   "interpreter": {
    "hash": "1c4eeb78d5e1dc6cb6e62b5bd20620b702dce5b8b8ded6688ef7aad2e1c0d17c"
   }
  }
 },
 "nbformat": 4,
 "nbformat_minor": 2
}
