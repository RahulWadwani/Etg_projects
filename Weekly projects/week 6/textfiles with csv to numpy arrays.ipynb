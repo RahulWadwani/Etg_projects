{
 "cells": [
  {
   "cell_type": "markdown",
   "id": "56d5464d",
   "metadata": {},
   "source": [
    "# Importing libraries"
   ]
  },
  {
   "cell_type": "code",
   "execution_count": 2,
   "id": "848d2f34",
   "metadata": {},
   "outputs": [],
   "source": [
    "import numpy as np "
   ]
  },
  {
   "cell_type": "markdown",
   "id": "0072a8a4",
   "metadata": {},
   "source": [
    "# Creating dataset"
   ]
  },
  {
   "cell_type": "code",
   "execution_count": 7,
   "id": "0996abd9",
   "metadata": {},
   "outputs": [
    {
     "name": "stdout",
     "output_type": "stream",
     "text": [
      "Enter player name:Aaron finch \n",
      "Enter the runs in test :278\n",
      "Enter the runs in odi :5406\n",
      "Enter the runs in t20 :2973\n",
      "Enter the wickets in test :0\n",
      "Enter the wickets in odi :4\n",
      "Enter the wickets in t20 :0\n"
     ]
    }
   ],
   "source": [
    "#cricket stats\n",
    "# player name runs in test, odi , t20 wickets in test, odi , t20 \n",
    "\n",
    "name = input('Enter player name:').strip()\n",
    "\n",
    "# runs \n",
    "runs_in_test = (input('Enter the runs in test :')) \n",
    "runs_in_odi = (input('Enter the runs in odi :'))\n",
    "runs_in_t20 = (input('Enter the runs in t20 :'))\n",
    "\n",
    "# wickets \n",
    "wickets_in_test = (input('Enter the wickets in test :'))\n",
    "wickets_in_odi = (input('Enter the wickets in odi :'))\n",
    "wickets_in_t20 = (input('Enter the wickets in t20 :'))\n",
    "\n",
    "data = name +','+ runs_in_test + ','+ runs_in_odi + ','+ runs_in_t20 + ','+ wickets_in_test + ','+ wickets_in_odi + ','+  wickets_in_t20\n",
    "\n",
    "fd = open('stats.csv','a')\n",
    "fd.write(data)\n",
    "fd.write('/n')\n",
    "fd.close()"
   ]
  },
  {
   "cell_type": "markdown",
   "id": "79339707",
   "metadata": {},
   "source": [
    "# converting to numpy array "
   ]
  },
  {
   "cell_type": "code",
   "execution_count": 8,
   "id": "7c468199",
   "metadata": {},
   "outputs": [
    {
     "data": {
      "text/plain": [
       "array('MS Dhoni,2000,4500,1200,1,2,2\\nVirat kohli,4500,5000,4000,1,1,1\\nheinrich klaasen,11,732,651,0,0,0\\nDavid malan,1074,319,1585,2,1,1Aaron finch,278,5406,2973,0,4,0/n',\n",
       "      dtype='<U161')"
      ]
     },
     "execution_count": 8,
     "metadata": {},
     "output_type": "execute_result"
    }
   ],
   "source": [
    "fd = open('stats.csv','r')\n",
    "text = fd.read()\n",
    "fd.close()\n",
    "np.array(text)"
   ]
  }
 ],
 "metadata": {
  "kernelspec": {
   "display_name": "Python 3 (ipykernel)",
   "language": "python",
   "name": "python3"
  },
  "language_info": {
   "codemirror_mode": {
    "name": "ipython",
    "version": 3
   },
   "file_extension": ".py",
   "mimetype": "text/x-python",
   "name": "python",
   "nbconvert_exporter": "python",
   "pygments_lexer": "ipython3",
   "version": "3.9.6"
  }
 },
 "nbformat": 4,
 "nbformat_minor": 5
}
