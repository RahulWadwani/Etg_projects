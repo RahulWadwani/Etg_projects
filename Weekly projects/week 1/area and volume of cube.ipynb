{
 "cells": [
  {
   "cell_type": "code",
   "execution_count": 4,
   "id": "dc77aa73",
   "metadata": {},
   "outputs": [
    {
     "name": "stdout",
     "output_type": "stream",
     "text": [
      "Enter side of a cube : 4.5\n",
      "Surface area of the cube  :  121.5\n",
      "Volume of the cube        :  91.125\n"
     ]
    }
   ],
   "source": [
    "# Area \n",
    "class Area:\n",
    "    def area(self,n):\n",
    "        return 6*(n**2)\n",
    "    def vol(self,n):\n",
    "        return n**3\n",
    "\n",
    "if __name__ == '__main__':\n",
    "    n = float(input('Enter side of a cube : '))\n",
    "    obj = Area()\n",
    "    print('Surface area of the cube  : ',obj.area(n))\n",
    "    print('Volume of the cube        : ',obj.vol(n))"
   ]
  }
 ],
 "metadata": {
  "kernelspec": {
   "display_name": "Python 3 (ipykernel)",
   "language": "python",
   "name": "python3"
  },
  "language_info": {
   "codemirror_mode": {
    "name": "ipython",
    "version": 3
   },
   "file_extension": ".py",
   "mimetype": "text/x-python",
   "name": "python",
   "nbconvert_exporter": "python",
   "pygments_lexer": "ipython3",
   "version": "3.9.6"
  }
 },
 "nbformat": 4,
 "nbformat_minor": 5
}
